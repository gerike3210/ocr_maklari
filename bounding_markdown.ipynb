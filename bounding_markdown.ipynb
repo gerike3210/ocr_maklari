{
 "cells": [
  {
   "cell_type": "markdown",
   "id": "1a5b0ad4",
   "metadata": {},
   "source": [
    "## Before bounding - preprocess!\n",
    "basic preprocess steps, other notebook"
   ]
  },
  {
   "cell_type": "markdown",
   "id": "690ab67e",
   "metadata": {},
   "source": [
    "\n",
    "### BLUR\n",
    "`\n",
    "cv2.GaussianBlur(src, ksize, sigmaX[, dst[, sigmaY[, borderType]]])\n",
    "`\n",
    "\n",
    "**src:** A bemeneti kép, amelyen a Gauss-elmosást alkalmazni szeretné.\n",
    "\n",
    "**ksize:** Egy tuple (kernelszélesség, kernelmagasság), amely meghatározza a Gauss-kernel méretét. A kernel méretét az elmosás mértékéhez és a kép részleteinek megtartásához kell beállítani. Például (5, 5) egy 5x5-ös kernelt hoz létre.\n",
    "\n",
    "**sigmaX:** A Gauss-elmosás szórásának értéke az X irányban. Nagyobb szigma értékek erősebb elmosást eredményeznek.\n",
    "\n",
    "**dst (opcionális):** Az elmosott kép célja, ha meg van adva.\n",
    "\n",
    "**sigmaY (opcionális):** A Gauss-elmosás szórásának értéke az Y irányban. Alapértelmezett értéke 0, ami azt jelenti, hogy az X és Y irányban is ugyanazt a szórásértéket használja.\n",
    "\n",
    "**borderType (opcionális):** A kép határvizsgálata, ha a kernel a kép szélén található. Alapértelmezett értéke cv2.BORDER_DEFAULT."
   ]
  },
  {
   "cell_type": "markdown",
   "id": "448a83df",
   "metadata": {},
   "source": [
    "### THRESHOLD\n",
    "`\n",
    "cv2.threshold(blured_img, 0, 255, cv2.THRESH_BINARY_INV + cv2.THRESH_OTSU)[1]\n",
    "`\n",
    "\n",
    "**0:** Első küszöbérték, a kép összes pixelére vonatkozik. Minden pixel értékét ehhez a küszöbértékhez hasonlítja össze.\n",
    "\n",
    "**255:** Ezen érték fölött lévő pixeleket erre az értékre állítja be, ha a küszöbérték szerinti összehasonlítás igaz.\n",
    "\n",
    "**cv2.THRESH_BINARY_INV + cv2.THRESH_OTSU:**\n",
    "- **cv2.THRESH_BINARY_INV:** A küszöbölés típusa, azok a pixelek, amelyeknek értéke meghaladja a küszöbértéket, feketévé válnak, az érték alatt lévők pedig fehérré.\n",
    "\n",
    "- **cv2.THRESH_OTSU:** Adaptív küszöbérték meghatározása. A legmegfelelelőbb küszöbértéket választja ki a képnek megfelelően."
   ]
  },
  {
   "cell_type": "markdown",
   "id": "bfcfddcf",
   "metadata": {},
   "source": [
    "### KERNEL & DILATE\n",
    "#### KERNEL\n",
    "`\n",
    "cv2.getStructuringElement(cv2.MORPH_RECT, (3,13))\n",
    "`\n",
    "\n",
    "Téglalap alakú elemet hoz létre, ahol a **cv2.MORPH_RECT** jelzi a téglalapot, a **(3,13)** pedig a méretét.\n",
    "\n",
    "#### DILATE\n",
    "`\n",
    "cv2.dilate(thresh_img, kernal_image, iterations=1)\n",
    "`\n",
    "\n",
    "A kernel használata a dilatációs műveletnél lehetővé teszi a felhasználó számára, hogy szabályozza, hogy mennyire növelje a képen lévő objektumok méretét, és hogy azok összeolvadjanak vagy sem a művelet során. Ezáltal a kernel fontos szerepet játszik a dilatációs művelet eredményének irányításában és a kép struktúrájának módosításában."
   ]
  },
  {
   "cell_type": "code",
   "execution_count": null,
   "id": "23bfc100",
   "metadata": {},
   "outputs": [],
   "source": []
  }
 ],
 "metadata": {
  "kernelspec": {
   "display_name": "Python 3 (ipykernel)",
   "language": "python",
   "name": "python3"
  },
  "language_info": {
   "codemirror_mode": {
    "name": "ipython",
    "version": 3
   },
   "file_extension": ".py",
   "mimetype": "text/x-python",
   "name": "python",
   "nbconvert_exporter": "python",
   "pygments_lexer": "ipython3",
   "version": "3.10.9"
  }
 },
 "nbformat": 4,
 "nbformat_minor": 5
}
