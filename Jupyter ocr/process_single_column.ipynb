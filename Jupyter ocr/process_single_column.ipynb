{
 "cells": [
  {
   "cell_type": "code",
   "execution_count": 1,
   "id": "fc296cf6",
   "metadata": {},
   "outputs": [],
   "source": [
    "# this displays images"
   ]
  },
  {
   "cell_type": "code",
   "execution_count": 2,
   "id": "3b5f5223",
   "metadata": {},
   "outputs": [
    {
     "ename": "NameError",
     "evalue": "name 'cv2' is not defined",
     "output_type": "error",
     "traceback": [
      "\u001b[0;31m---------------------------------------------------------------------------\u001b[0m",
      "\u001b[0;31mNameError\u001b[0m                                 Traceback (most recent call last)",
      "Cell \u001b[0;32mIn[2], line 1\u001b[0m\n\u001b[0;32m----> 1\u001b[0m img2 \u001b[38;5;241m=\u001b[39m \u001b[43mcv2\u001b[49m\u001b[38;5;241m.\u001b[39mimread(getImgXPath(\u001b[38;5;241m5\u001b[39m), cv2\u001b[38;5;241m.\u001b[39mIMREAD_GRAYSCALE)\u001b[38;5;241m.\u001b[39mastype(np\u001b[38;5;241m.\u001b[39muint8)\n\u001b[1;32m      3\u001b[0m test_img \u001b[38;5;241m=\u001b[39m OCR(img2)\n\u001b[1;32m      4\u001b[0m cols \u001b[38;5;241m=\u001b[39m test_img\u001b[38;5;241m.\u001b[39mseparateTwoCols()\n",
      "\u001b[0;31mNameError\u001b[0m: name 'cv2' is not defined"
     ]
    }
   ],
   "source": [
    "img2 = cv2.imread(getImgXPath(5), cv2.IMREAD_GRAYSCALE).astype(np.uint8)\n",
    "\n",
    "test_img = OCR(img2)\n",
    "cols = test_img.separateTwoCols()\n",
    "\n",
    "final_img_col_one = []\n",
    "final_img_col_two = []\n",
    "\n",
    "for col_idx, col in enumerate(cols):\n",
    "    cnts = col.erode((2, 2)).connectHorizontalPixels().getCnts()\n",
    "\n",
    "    img_dict = {'c': [], 'x': [], 'img': []}\n",
    "\n",
    "    for c in cnts:\n",
    "        x, y, w, h = c\n",
    "        img_dict['c'].append(c)\n",
    "\n",
    "        tmp_img = OCR(col.original_img[y:y+h, x:x+w])\n",
    "        img_dict['img'].append(OCR(col.original_img[y:y+h, x:x+w]))\n",
    "        tmp_img_x = tmp_img.connectVerticalPixels().getCnts()[0][0]\n",
    "        img_dict['x'].append(tmp_img_x)\n",
    "\n",
    "    avg_x = int(np.average(img_dict['x']))\n",
    "\n",
    "    skip = False\n",
    "    final_img_list = final_img_col_one if col_idx == 0 else final_img_col_two\n",
    "    lang = 'deu+equ' if col_idx == 0 else 'hun'\n",
    "\n",
    "    for idx, x_value in enumerate(img_dict['x']):\n",
    "        if skip:\n",
    "            skip = False\n",
    "            continue\n",
    "\n",
    "        final_img = img_dict['img'][idx]\n",
    "\n",
    "        if not (avg_x * 0.3 < x_value < avg_x * 1.7):\n",
    "            curr_img, before_img = final_img.img, img_dict['img'][idx+1].img\n",
    "            concatenated = np.concatenate((before_img, curr_img), axis=0)\n",
    "            final_img = OCR(concatenated).resizeImg(55).setBorder((15,15,15,15))\n",
    "            print(final_img.ocrColumn(lang).replace('\\n',' '))\n",
    "            final_img_list.append(final_img)\n",
    "            skip = True\n",
    "            continue\n",
    "\n",
    "        final_img.resizeImg(55).setBorder((15,15,15,15))\n",
    "        print(final_img.ocrColumn(lang).replace('\\n',' '))\n",
    "        final_img_list.append(final_img)\n",
    "\n",
    "# Display images from both final_img_col_one and final_img_col_two\n",
    "for i in range(len(final_img_col_one)):\n",
    "    final_img_col_one[i].showImage()\n",
    "    final_img_col_two[i].showImage()"
   ]
  },
  {
   "cell_type": "code",
   "execution_count": 3,
   "id": "dca13526",
   "metadata": {},
   "outputs": [],
   "source": [
    "# this uses ocr and shows images"
   ]
  },
  {
   "cell_type": "code",
   "execution_count": 4,
   "id": "33193e0c",
   "metadata": {},
   "outputs": [
    {
     "ename": "NameError",
     "evalue": "name 'cv2' is not defined",
     "output_type": "error",
     "traceback": [
      "\u001b[0;31m---------------------------------------------------------------------------\u001b[0m",
      "\u001b[0;31mNameError\u001b[0m                                 Traceback (most recent call last)",
      "Cell \u001b[0;32mIn[4], line 1\u001b[0m\n\u001b[0;32m----> 1\u001b[0m img2 \u001b[38;5;241m=\u001b[39m \u001b[43mcv2\u001b[49m\u001b[38;5;241m.\u001b[39mimread(getImgXPath(\u001b[38;5;241m5\u001b[39m), cv2\u001b[38;5;241m.\u001b[39mIMREAD_GRAYSCALE)\u001b[38;5;241m.\u001b[39mastype(np\u001b[38;5;241m.\u001b[39muint8)\n\u001b[1;32m      3\u001b[0m test_img \u001b[38;5;241m=\u001b[39m OCR(img2)\n\u001b[1;32m      4\u001b[0m cols \u001b[38;5;241m=\u001b[39m test_img\u001b[38;5;241m.\u001b[39mseparateTwoCols()\n",
      "\u001b[0;31mNameError\u001b[0m: name 'cv2' is not defined"
     ]
    }
   ],
   "source": [
    "img2 = cv2.imread(getImgXPath(5), cv2.IMREAD_GRAYSCALE).astype(np.uint8)\n",
    "\n",
    "test_img = OCR(img2)\n",
    "cols = test_img.separateTwoCols()\n",
    "\n",
    "for col_idx, col in enumerate(cols):\n",
    "    words = []\n",
    "    cnts = col.erode((2, 2)).connectHorizontalPixels().getCnts()\n",
    "\n",
    "    img_dict = {'c': [], 'x': [], 'img': []}\n",
    "\n",
    "    for c in cnts:\n",
    "        x, y, w, h = c\n",
    "        img_dict['c'].append(c)\n",
    "\n",
    "        tmp_img = OCR(col.original_img[y:y+h, x:x+w])\n",
    "        img_dict['img'].append(OCR(col.original_img[y:y+h, x:x+w]))\n",
    "        tmp_img_x = tmp_img.connectVerticalPixels().getCnts()[0][0]\n",
    "        img_dict['x'].append(tmp_img_x)\n",
    "\n",
    "    avg_x = int(np.average(img_dict['x']))\n",
    "\n",
    "    skip = False\n",
    "    lang = 'deu+equ' if col_idx == 0 else 'hun'\n",
    "\n",
    "    for idx, x_value in enumerate(img_dict['x']):\n",
    "        if skip:\n",
    "            skip = False\n",
    "            continue\n",
    "\n",
    "        final_img = img_dict['img'][idx]\n",
    "\n",
    "        if not (avg_x * 0.3 < x_value < avg_x * 1.7):\n",
    "            curr_img, before_img = final_img.img, img_dict['img'][idx+1].img\n",
    "            concatenated = np.concatenate((before_img, curr_img), axis=0)\n",
    "            final_img = OCR(concatenated).resizeImg(55).setBorder((15,15,15,15))\n",
    "            words.append(final_img.ocrColumn(lang).replace('\\n',' '))\n",
    "            skip = True\n",
    "            continue\n",
    "\n",
    "        final_img.resizeImg(55).setBorder((15,15,15,15))\n",
    "        words.append(final_img.ocrColumn(lang).replace('\\n',' '))\n",
    "\n",
    "    print(words)"
   ]
  },
  {
   "cell_type": "code",
   "execution_count": null,
   "id": "bcb1c241",
   "metadata": {},
   "outputs": [],
   "source": []
  }
 ],
 "metadata": {
  "kernelspec": {
   "display_name": "Python 3 (ipykernel)",
   "language": "python",
   "name": "python3"
  },
  "language_info": {
   "codemirror_mode": {
    "name": "ipython",
    "version": 3
   },
   "file_extension": ".py",
   "mimetype": "text/x-python",
   "name": "python",
   "nbconvert_exporter": "python",
   "pygments_lexer": "ipython3",
   "version": "3.10.9"
  }
 },
 "nbformat": 4,
 "nbformat_minor": 5
}
