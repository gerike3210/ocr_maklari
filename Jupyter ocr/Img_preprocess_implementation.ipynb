{
 "cells": [
  {
   "cell_type": "code",
   "execution_count": 1,
   "id": "b6756ae5",
   "metadata": {},
   "outputs": [],
   "source": [
    "import cv2\n",
    "import numpy as np\n",
    "from deskew import determine_skew\n",
    "import math\n",
    "from PIL import Image as PImage # Load the image\n",
    "from IPython.display import Image, display"
   ]
  },
  {
   "cell_type": "markdown",
   "id": "8dddecde",
   "metadata": {},
   "source": [
    "### code to display image"
   ]
  },
  {
   "cell_type": "code",
   "execution_count": 2,
   "id": "8cdfcb21",
   "metadata": {},
   "outputs": [],
   "source": [
    "temp_image_path = \"images/temp_image.png\"\n",
    "\n",
    "def showImage(input_img):\n",
    "    cv2.imwrite(temp_image_path, input_img)\n",
    "    display(Image(filename=temp_image_path))"
   ]
  },
  {
   "cell_type": "markdown",
   "id": "a54ce86c",
   "metadata": {},
   "source": [
    "## Change DPI"
   ]
  },
  {
   "cell_type": "code",
   "execution_count": 3,
   "id": "e57275d1",
   "metadata": {},
   "outputs": [],
   "source": [
    "def changeDpi(pil_img):    \n",
    "    # Set the DPI metadata for the image\n",
    "    dpi_tuple = (300, 300)\n",
    "    pil_img.info['dpi'] = (300, 300)\n",
    "\n",
    "    # Save the image with the specified DPI\n",
    "    pil_img.save(\"images/test_szotar_dpi.jpg\", dpi=dpi_tuple)\n",
    "    return cv2.imread(\"images/test_szotar_dpi.jpg\", cv2.IMREAD_GRAYSCALE)"
   ]
  },
  {
   "cell_type": "markdown",
   "id": "d64da46f",
   "metadata": {},
   "source": [
    "## Binarization"
   ]
  },
  {
   "cell_type": "code",
   "execution_count": 4,
   "id": "9a15cf5c",
   "metadata": {},
   "outputs": [],
   "source": [
    "def binarizeImg(input_img):\n",
    "    if input_img is None:\n",
    "        print(\"Error: Input image is None.\")\n",
    "        return None\n",
    "\n",
    "    # Check if the input image is in BGR format\n",
    "    if input_img.shape[-1] == 3:\n",
    "        gray_img = cv2.cvtColor(input_img, cv2.COLOR_BGR2GRAY)\n",
    "    else:\n",
    "        # If the image is already grayscale or in a different format, just convert it to grayscale\n",
    "        gray_img = input_img\n",
    "\n",
    "    return cv2.threshold(gray_img, 0, 255, cv2.THRESH_BINARY + cv2.THRESH_OTSU)[1]"
   ]
  },
  {
   "cell_type": "markdown",
   "id": "c7d7ee19",
   "metadata": {},
   "source": [
    "## Skew correction\n",
    "1. Calculate horizontal and vertical projection profiles\n",
    "2. Find the skew angle based on the projection profiles. You can use a simple method like finding the angle with the maximum projection value\n",
    "3. Correct the skew by rotating the image:"
   ]
  },
  {
   "cell_type": "code",
   "execution_count": 5,
   "id": "e682de91",
   "metadata": {},
   "outputs": [],
   "source": [
    "def rotate(input_img, background):\n",
    "    img_copy = input_img.copy()\n",
    "    \n",
    "    # Megállapítjuk az elforgatási szöget a `determine_skew` függvénnyel\n",
    "    angle = determine_skew(img_copy)\n",
    "    \n",
    "    # A bemeneti kép eredeti szélessége és magassága\n",
    "    old_width, old_height = img_copy.shape[:2]\n",
    "    print(f\"w: {old_width}, h: {old_height}\")\n",
    "\n",
    "    # Az elforgatási szög radiánban\n",
    "    angle_radian = math.radians(angle)\n",
    "    print(f\"radian angle: {angle_radian}\")\n",
    "\n",
    "    # Az új kép szélessége és magassága a forgatás után\n",
    "    width = abs(np.sin(angle_radian) * old_height) + abs(np.cos(angle_radian) * old_width)\n",
    "    height = abs(np.sin(angle_radian) * old_width) + abs(np.cos(angle_radian) * old_height)\n",
    "    print(f\"new_w: {width}, new_h: {height}\")\n",
    "    \n",
    "    # A kép forgatásának középpontja\n",
    "    image_center = tuple(np.array(img_copy.shape[1::-1]) / 2)\n",
    "    print(f\"forgatasi kozeppont: {image_center}\")\n",
    "    \n",
    "    # Forgatási mátrix létrehozása\n",
    "    rot_mat = cv2.getRotationMatrix2D(image_center, angle, 1.0)\n",
    "\n",
    "    # Az eltolás hozzáadása az elforgatáshoz, hogy a kép középen maradjon\n",
    "    rot_mat[1, 2] += (width - old_width) / 2\n",
    "    rot_mat[0, 2] += (height - old_height) / 2\n",
    "\n",
    "    # Az elforgatott kép létrehozása\n",
    "    return cv2.warpAffine(img_copy, rot_mat, (int(round(height)), int(round(width))), borderValue=background)"
   ]
  },
  {
   "cell_type": "markdown",
   "id": "b33d1d8c",
   "metadata": {},
   "source": [
    "## Noise removal"
   ]
  },
  {
   "cell_type": "code",
   "execution_count": 6,
   "id": "5655d707",
   "metadata": {},
   "outputs": [],
   "source": [
    "def preprocessImage(input_img, output_path):\n",
    "    pre_img = changeDpi(input_img)\n",
    "    pre_img = binarizeImg(pre_img)\n",
    "    # Elforgatjuk a bemeneti képet az előzőleg kiszámított szöggel, fekete háttérrel\n",
    "    pre_img = rotate(pre_img, (0, 0, 0))\n",
    "    cv2.imwrite(output_path, pre_img.astype((np.uint8)))\n",
    "    showImage(pre_img)\n",
    "    return pre_img\n",
    "    \n",
    "    "
   ]
  },
  {
   "cell_type": "code",
   "execution_count": 7,
   "id": "0a9f2d42",
   "metadata": {},
   "outputs": [
    {
     "name": "stdout",
     "output_type": "stream",
     "text": [
      "w: 532, h: 306\n",
      "radian angle: 0.0\n",
      "new_w: 532.0, new_h: 306.0\n",
      "forgatasi kozeppont: (153.0, 266.0)\n"
     ]
    },
    {
     "data": {
      "image/png": "[encoded data removed]",
      "text/plain": [
       "<IPython.core.display.Image object>"
      ]
     },
     "metadata": {},
     "output_type": "display_data"
    },
    {
     "name": "stdout",
     "output_type": "stream",
     "text": [
      "[[255 255 255 ... 255 255 255]\n",
      " [255 255 255 ... 255 255 255]\n",
      " [255 255 255 ... 255 255 255]\n",
      " ...\n",
      " [255 255 255 ... 255 255 255]\n",
      " [255 255 255 ... 255 255 255]\n",
      " [255 255 255 ... 255 255 255]]\n",
      "w: 520, h: 578\n",
      "radian angle: 0.0\n",
      "new_w: 520.0, new_h: 578.0\n",
      "forgatasi kozeppont: (289.0, 260.0)\n"
     ]
    },
    {
     "data": {
      "image/png": "[encoded data removed]",
      "text/plain": [
       "<IPython.core.display.Image object>"
      ]
     },
     "metadata": {},
     "output_type": "display_data"
    },
    {
     "name": "stdout",
     "output_type": "stream",
     "text": [
      "[[255 255 255 ... 255 255 255]\n",
      " [255 255 255 ... 255 255 255]\n",
      " [255 255 255 ... 255 255 255]\n",
      " ...\n",
      " [255 255 255 ... 255 255 255]\n",
      " [255 255 255 ... 255 255 255]\n",
      " [255 255 255 ... 255 255 255]]\n"
     ]
    }
   ],
   "source": [
    "img_path = 'images/nemet_resz.jpg'\n",
    "big_img_path = 'images/szotar_image.jpg'\n",
    "img = PImage.open(img_path)\n",
    "big_img = PImage.open(big_img_path)\n",
    "\n",
    "print(preprocessImage(img, 'images/img1.jpg'))\n",
    "print(preprocessImage(big_img, 'images/img2.jpg'))"
   ]
  },
  {
   "cell_type": "code",
   "execution_count": null,
   "id": "35608100",
   "metadata": {},
   "outputs": [],
   "source": []
  }
 ],
 "metadata": {
  "kernelspec": {
   "display_name": "Python 3 (ipykernel)",
   "language": "python",
   "name": "python3"
  },
  "language_info": {
   "codemirror_mode": {
    "name": "ipython",
    "version": 3
   },
   "file_extension": ".py",
   "mimetype": "text/x-python",
   "name": "python",
   "nbconvert_exporter": "python",
   "pygments_lexer": "ipython3",
   "version": "3.10.9"
  }
 },
 "nbformat": 4,
 "nbformat_minor": 5
}
