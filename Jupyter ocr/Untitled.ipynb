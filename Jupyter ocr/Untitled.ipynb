{
 "cells": [
  {
   "cell_type": "code",
   "execution_count": 23,
   "id": "f331d2d6",
   "metadata": {},
   "outputs": [],
   "source": [
    "import cv2\n",
    "import base64\n",
    "from PIL import Image\n",
    "from io import BytesIO\n",
    "import numpy as np"
   ]
  },
  {
   "cell_type": "code",
   "execution_count": 40,
   "id": "29484efd",
   "metadata": {},
   "outputs": [],
   "source": [
    "with open(\"img2.jpg\", \"rb\") as image_file:\n",
    "    data = base64.b64encode(image_file.read())\n",
    "\n",
    "img = Image.open(BytesIO(base64.b64decode(data)))\n",
    "\n",
    "# Convert RGB image to BGR format\n",
    "bgr_img = cv2.cvtColor(np.array(img), cv2.COLOR_RGB2BGR)\n",
    "\n",
    "# Convert to grayscale\n",
    "gray_image = cv2.cvtColor(bgr_img, cv2.COLOR_BGR2GRAY)\n",
    "\n"
   ]
  }
 ],
 "metadata": {
  "kernelspec": {
   "display_name": "Python 3 (ipykernel)",
   "language": "python",
   "name": "python3"
  },
  "language_info": {
   "codemirror_mode": {
    "name": "ipython",
    "version": 3
   },
   "file_extension": ".py",
   "mimetype": "text/x-python",
   "name": "python",
   "nbconvert_exporter": "python",
   "pygments_lexer": "ipython3",
   "version": "3.10.9"
  }
 },
 "nbformat": 4,
 "nbformat_minor": 5
}
