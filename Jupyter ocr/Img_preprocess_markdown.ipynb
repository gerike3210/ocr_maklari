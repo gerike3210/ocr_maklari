{
 "cells": [
  {
   "cell_type": "markdown",
   "id": "ca11d3c1",
   "metadata": {},
   "source": [
    "# Image preprocessing"
   ]
  },
  {
   "cell_type": "markdown",
   "id": "3da2ae96",
   "metadata": {},
   "source": [
    "## 1. Normalization\n",
    "Ez a folyamat megváltoztatja a pixel intenzitásértékek tartományát. A normalizálás célja, hogy a képet az érzékelés szempontjából normális tartományba hozza. Az OpenCV a kép normalizálására a normalize () függvényt használja."
   ]
  },
  {
   "cell_type": "markdown",
   "id": "e047c798",
   "metadata": {},
   "source": [
    "## 2. Skew correction\n",
    "Bármely dokumentum beolvasása vagy lefényképezése során előfordulhat, hogy a beolvasott vagy rögzített kép néha kissé ferde lesz. Az OCR jobb teljesítménye érdekében jó, ha meghatározzuk a kép ferdeségét, és korrigáljuk azt."
   ]
  },
  {
   "cell_type": "markdown",
   "id": "fffae168",
   "metadata": {},
   "source": [
    "## 3. Image scaling\n",
    "Az OCR jobb teljesítményének elérése érdekében a képnek több mint 300 PPI (pixel per inch) felbontásúnak kell lennie. Ha tehát a kép mérete kisebb, mint 300 PPI, akkor növelni kell. Ehhez használhatjuk a Pillow könyvtárat."
   ]
  },
  {
   "cell_type": "markdown",
   "id": "8f68b1e2",
   "metadata": {},
   "source": [
    "## 4. Noise removal\n",
    "Ez a lépés eltávolítja a kép többi részéhez képest nagy intenzitású apró pontokat/foltokat a kép simítása érdekében."
   ]
  },
  {
   "cell_type": "markdown",
   "id": "3ffd0b7d",
   "metadata": {},
   "source": [
    "## 5. Thinning and skeletonization\n",
    "Ezt a lépést a kézzel írott szöveg esetében kell elvégezni, mivel a különböző írók különböző szélességű vonallal írnak. Ezzel a lépéssel a vonásszélesség egységessé válik. Ezt az OpenCV-ben lehet elvégezni."
   ]
  },
  {
   "cell_type": "markdown",
   "id": "b2174404",
   "metadata": {},
   "source": [
    "## 6. Gray Scale image\n",
    "Ez a folyamat a képet más színterekből a szürke árnyalataira alakítja át. A szín a teljes fekete és a teljes fehér között változik."
   ]
  },
  {
   "cell_type": "markdown",
   "id": "9c13d47c",
   "metadata": {},
   "source": [
    "## 7. Thresholding or Binarization\n",
    "Ez a lépés bármely színes képet bináris képpé alakít, amely csak két színt tartalmaz, a feketét és a fehéret. Ez egy küszöbérték rögzítésével történik (általában a 0-255 pixel tartomány fele, azaz 127). A küszöbértéknél nagyobb pixelértéket fehér pixellé, egyébként fekete pixellé alakítjuk át. A küszöbértéknek a képnek megfelelő meghatározásához az Otsu-féle binarizáció és az adaptív binarizáció lehet a jobb választás. Az OpenCV-ben ez a megadott módon végezhető el."
   ]
  }
 ],
 "metadata": {
  "kernelspec": {
   "display_name": "Python 3 (ipykernel)",
   "language": "python",
   "name": "python3"
  },
  "language_info": {
   "codemirror_mode": {
    "name": "ipython",
    "version": 3
   },
   "file_extension": ".py",
   "mimetype": "text/x-python",
   "name": "python",
   "nbconvert_exporter": "python",
   "pygments_lexer": "ipython3",
   "version": "3.10.9"
  }
 },
 "nbformat": 4,
 "nbformat_minor": 5
}
