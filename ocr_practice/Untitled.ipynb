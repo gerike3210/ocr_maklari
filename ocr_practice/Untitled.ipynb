{
 "cells": [
  {
   "cell_type": "code",
   "execution_count": 2,
   "id": "b9082dde",
   "metadata": {},
   "outputs": [],
   "source": [
    "from PIL import Image"
   ]
  },
  {
   "cell_type": "code",
   "execution_count": 9,
   "id": "09ed94af",
   "metadata": {},
   "outputs": [
    {
     "name": "stdout",
     "output_type": "stream",
     "text": [
      "<PIL.JpegImagePlugin.JpegImageFile image mode=RGB size=1200x1522 at 0x105C14550>\n"
     ]
    }
   ],
   "source": [
    "# define route of file\n",
    "im_file = \"./page_01.jpg\"\n",
    "\n",
    "# open the image into a variable\n",
    "im = Image.open(im_file)\n",
    "# the instance will have tons of properties like .size\n",
    "print(im)\n",
    "\n",
    "# show an image\n",
    "# im.show()\n",
    "\n",
    "# rotate an image\n",
    "im.rotate(90)\n",
    "\n",
    "# save an image\n",
    "im.save(\"./page_01_a.jpg\")"
   ]
  },
  {
   "cell_type": "code",
   "execution_count": null,
   "id": "dc0130c6",
   "metadata": {},
   "outputs": [],
   "source": []
  }
 ],
 "metadata": {
  "kernelspec": {
   "display_name": "Python 3 (ipykernel)",
   "language": "python",
   "name": "python3"
  },
  "language_info": {
   "codemirror_mode": {
    "name": "ipython",
    "version": 3
   },
   "file_extension": ".py",
   "mimetype": "text/x-python",
   "name": "python",
   "nbconvert_exporter": "python",
   "pygments_lexer": "ipython3",
   "version": "3.11.3"
  }
 },
 "nbformat": 4,
 "nbformat_minor": 5
}
